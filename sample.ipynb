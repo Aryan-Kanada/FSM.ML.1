{
 "cells": [
  {
   "metadata": {
    "ExecuteTime": {
     "end_time": "2025-06-06T13:19:02.239646Z",
     "start_time": "2025-06-06T13:19:01.801743Z"
    }
   },
   "cell_type": "code",
   "source": [
    "import numpy as np\n",
    "import pandas as pd\n",
    "\n",
    "def load_data():\n",
    "    train = pd.read_csv('titanic/train.csv')\n",
    "    test = pd.read_csv('titanic/test.csv')\n",
    "    submission = pd.read_csv('titanic/gender_submission.csv')\n",
    "\n",
    "    test = test.merge(submission, on='PassengerId')\n",
    "\n",
    "    def preprocess(df):\n",
    "        df = df.copy()\n",
    "        df['Age'] = df['Age'].fillna(df['Age'].median())\n",
    "        df['Fare'] = df['Fare'].fillna(df['Fare'].median())\n",
    "        df['Embarked'] = df['Embarked'].fillna('S')\n",
    "\n",
    "        df['Sex'] = df['Sex'].map({'male': 0, 'female': 1})\n",
    "        df['Embarked'] = df['Embarked'].map({'S': 0, 'C': 1, 'Q': 2})\n",
    "        df['FamilySize'] = df['SibSp'] + df['Parch']\n",
    "        return df\n",
    "\n",
    "    train = preprocess(train)\n",
    "    test = preprocess(test)\n",
    "\n",
    "    features = ['Pclass', 'Sex', 'Age', 'Fare', 'FamilySize']\n",
    "    X_train = train[features].values\n",
    "    y_train = train['Survived'].values\n",
    "    X_test = test[features].values\n",
    "    y_test = test['Survived'].values\n",
    "\n",
    "    return X_train, y_train, X_test, y_test"
   ],
   "id": "fbc121e30a2defb3",
   "outputs": [],
   "execution_count": 1
  },
  {
   "metadata": {},
   "cell_type": "code",
   "outputs": [],
   "execution_count": null,
   "source": "",
   "id": "d2eac550c0a24e99"
  }
 ],
 "metadata": {
  "kernelspec": {
   "display_name": "Python 3",
   "language": "python",
   "name": "python3"
  },
  "language_info": {
   "codemirror_mode": {
    "name": "ipython",
    "version": 2
   },
   "file_extension": ".py",
   "mimetype": "text/x-python",
   "name": "python",
   "nbconvert_exporter": "python",
   "pygments_lexer": "ipython2",
   "version": "2.7.6"
  }
 },
 "nbformat": 4,
 "nbformat_minor": 5
}
