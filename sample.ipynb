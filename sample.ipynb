{
 "cells": [
  {
   "metadata": {
    "ExecuteTime": {
     "end_time": "2025-06-06T13:25:22.638240Z",
     "start_time": "2025-06-06T13:25:22.208923Z"
    }
   },
   "cell_type": "code",
   "source": [
    "import numpy as np\n",
    "import pandas as pd"
   ],
   "id": "e0fa6c8c3bdd1cd9",
   "outputs": [],
   "execution_count": 2
  },
  {
   "metadata": {
    "ExecuteTime": {
     "end_time": "2025-06-06T13:25:24.781914Z",
     "start_time": "2025-06-06T13:25:24.774280Z"
    }
   },
   "cell_type": "code",
   "source": [
    "def load_data():\n",
    "    train = pd.read_csv('titanic/train.csv')\n",
    "    test = pd.read_csv('titanic/test.csv')\n",
    "    submission = pd.read_csv('titanic/gender_submission.csv')\n",
    "\n",
    "    test = test.merge(submission, on='PassengerId')\n",
    "\n",
    "    def preprocess(df):\n",
    "        df = df.copy()\n",
    "        df['Age'] = df['Age'].fillna(df['Age'].median())\n",
    "        df['Fare'] = df['Fare'].fillna(df['Fare'].median())\n",
    "        df['Embarked'] = df['Embarked'].fillna('S')\n",
    "\n",
    "        df['Sex'] = df['Sex'].map({'male': 0, 'female': 1})\n",
    "        df['Embarked'] = df['Embarked'].map({'S': 0, 'C': 1, 'Q': 2})\n",
    "        df['FamilySize'] = df['SibSp'] + df['Parch']\n",
    "        return df\n",
    "\n",
    "    train = preprocess(train)\n",
    "    test = preprocess(test)\n",
    "\n",
    "    features = ['Pclass', 'Sex', 'Age', 'Fare', 'FamilySize']\n",
    "    X_train = train[features].values\n",
    "    y_train = train['Survived'].values\n",
    "    X_test = test[features].values\n",
    "    y_test = test['Survived'].values\n",
    "\n",
    "    return X_train, y_train, X_test, y_test"
   ],
   "id": "fbc121e30a2defb3",
   "outputs": [],
   "execution_count": 3
  },
  {
   "metadata": {
    "ExecuteTime": {
     "end_time": "2025-06-06T13:25:26.689144Z",
     "start_time": "2025-06-06T13:25:26.680892Z"
    }
   },
   "cell_type": "code",
   "source": [
    "def naive_bayes(X_train, y_train):\n",
    "    classes = np.unique(y_train)\n",
    "    params = {}\n",
    "    for c in classes:\n",
    "        X_c = X_train[y_train == c]\n",
    "        means = np.mean(X_c, axis=0)\n",
    "        stds = np.std(X_c, axis=0)\n",
    "        stds = np.where(stds == 0, 1e-9, stds)\n",
    "        params[c] = (means, stds)\n",
    "    return params\n",
    "\n",
    "def predict_naive_bayes(model, X):\n",
    "    predictions = []\n",
    "    for x in X:\n",
    "        class_probs = []\n",
    "        for c, (means, stds) in model.items():\n",
    "            log_prob = -0.5 * np.sum(np.log(2 * np.pi * stds**2 + 1e-9))\n",
    "            log_prob -= np.sum(((x - means)**2) / (2 * stds**2 + 1e-9))\n",
    "            class_probs.append(log_prob)\n",
    "        predictions.append(list(model.keys())[np.argmax(class_probs)])\n",
    "    return np.array(predictions)"
   ],
   "id": "d2eac550c0a24e99",
   "outputs": [],
   "execution_count": 4
  },
  {
   "metadata": {},
   "cell_type": "code",
   "outputs": [],
   "execution_count": null,
   "source": "",
   "id": "2b9b5944711f0528"
  }
 ],
 "metadata": {
  "kernelspec": {
   "display_name": "Python 3",
   "language": "python",
   "name": "python3"
  },
  "language_info": {
   "codemirror_mode": {
    "name": "ipython",
    "version": 2
   },
   "file_extension": ".py",
   "mimetype": "text/x-python",
   "name": "python",
   "nbconvert_exporter": "python",
   "pygments_lexer": "ipython2",
   "version": "2.7.6"
  }
 },
 "nbformat": 4,
 "nbformat_minor": 5
}
