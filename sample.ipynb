{
 "cells": [
  {
   "metadata": {
    "ExecuteTime": {
     "end_time": "2025-06-06T14:27:32.006011Z",
     "start_time": "2025-06-06T14:27:31.997611Z"
    }
   },
   "cell_type": "code",
   "source": [
    "import numpy as np\n",
    "import pandas as pd\n",
    "import matplotlib.pyplot as plt"
   ],
   "id": "e0fa6c8c3bdd1cd9",
   "outputs": [],
   "execution_count": 26
  },
  {
   "metadata": {
    "ExecuteTime": {
     "end_time": "2025-06-06T14:27:32.033771Z",
     "start_time": "2025-06-06T14:27:32.024591Z"
    }
   },
   "cell_type": "code",
   "source": [
    "def load_data():\n",
    "    train = pd.read_csv('titanic/train.csv')\n",
    "    test = pd.read_csv('titanic/test.csv')\n",
    "    submission = pd.read_csv('titanic/gender_submission.csv')\n",
    "\n",
    "    test = test.merge(submission, on='PassengerId')\n",
    "\n",
    "    def preprocess(df):\n",
    "        df = df.copy()\n",
    "        df['Age'] = df['Age'].fillna(df['Age'].median())\n",
    "        df['Fare'] = df['Fare'].fillna(df['Fare'].median())\n",
    "        df['Embarked'] = df['Embarked'].fillna('S')\n",
    "\n",
    "        df['Sex'] = df['Sex'].map({'male': 0, 'female': 1})\n",
    "        df['Embarked'] = df['Embarked'].map({'S': 0, 'C': 1, 'Q': 2})\n",
    "        df['FamilySize'] = df['SibSp'] + df['Parch']\n",
    "        return df\n",
    "\n",
    "    train = preprocess(train)\n",
    "    test = preprocess(test)\n",
    "\n",
    "    features = ['Pclass', 'Sex', 'Age', 'Fare', 'FamilySize']\n",
    "    X_train = train[features].values\n",
    "    y_train = train['Survived'].values\n",
    "    X_test = test[features].values\n",
    "    y_test = test['Survived'].values\n",
    "\n",
    "    # Normalize features using Min-Max Scaling\n",
    "    min_vals = X_train.min(axis=0)\n",
    "    max_vals = X_train.max(axis=0)\n",
    "    X_train = (X_train - min_vals) / (max_vals - min_vals + 1e-9)\n",
    "    X_test = (X_test - min_vals) / (max_vals - min_vals + 1e-9)\n",
    "\n",
    "    return X_train, y_train, X_test, y_test"
   ],
   "id": "fbc121e30a2defb3",
   "outputs": [],
   "execution_count": 27
  },
  {
   "metadata": {
    "ExecuteTime": {
     "end_time": "2025-06-06T14:27:32.062978Z",
     "start_time": "2025-06-06T14:27:32.056391Z"
    }
   },
   "cell_type": "code",
   "source": [
    "def naive_bayes(X_train, y_train):\n",
    "    classes = np.unique(y_train)\n",
    "    params = {}\n",
    "    for c in classes:\n",
    "        X_c = X_train[y_train == c]\n",
    "        means = np.mean(X_c, axis=0)\n",
    "        stds = np.std(X_c, axis=0)\n",
    "        stds = np.where(stds == 0, 1e-9, stds)\n",
    "        params[c] = (means, stds)\n",
    "    return params\n",
    "\n",
    "def predict_naive_bayes(model, X):\n",
    "    predictions = []\n",
    "    for x in X:\n",
    "        class_probs = []\n",
    "        for c, (means, stds) in model.items():\n",
    "            log_prob = -0.5 * np.sum(np.log(2 * np.pi * stds**2 + 1e-9))\n",
    "            log_prob -= np.sum(((x - means)**2) / (2 * stds**2 + 1e-9))\n",
    "            class_probs.append(log_prob)\n",
    "        predictions.append(list(model.keys())[np.argmax(class_probs)])\n",
    "    return np.array(predictions)"
   ],
   "id": "d2eac550c0a24e99",
   "outputs": [],
   "execution_count": 28
  },
  {
   "metadata": {
    "ExecuteTime": {
     "end_time": "2025-06-06T14:27:32.080225Z",
     "start_time": "2025-06-06T14:27:32.074406Z"
    }
   },
   "cell_type": "code",
   "source": [
    "def knn(X_train, y_train, X_test, k=5):\n",
    "    predictions = []\n",
    "    for x in X_test:\n",
    "        distances = []\n",
    "        for train_x in X_train:\n",
    "            dist = np.sqrt(np.sum((train_x - x)**2))\n",
    "            distances.append(dist)\n",
    "        distances = np.array(distances)\n",
    "        nearest_indices = np.argsort(distances)[:k]\n",
    "        nearest_labels = y_train[nearest_indices]\n",
    "        counts = np.zeros(np.max(y_train) + 1, dtype=int)\n",
    "        for label in nearest_labels:\n",
    "            counts[label] += 1\n",
    "        predictions.append(np.argmax(counts))\n",
    "    return np.array(predictions)"
   ],
   "id": "2b9b5944711f0528",
   "outputs": [],
   "execution_count": 29
  },
  {
   "metadata": {
    "ExecuteTime": {
     "end_time": "2025-06-06T14:27:32.095646Z",
     "start_time": "2025-06-06T14:27:32.090011Z"
    }
   },
   "cell_type": "code",
   "source": [
    "def evaluate(y_true, y_pred, model_name):\n",
    "    accuracy = np.mean(y_true == y_pred)\n",
    "    print(f\"{model_name} Accuracy: {accuracy:.2%}\")\n",
    "\n",
    "    unique_classes = np.unique(np.concatenate((y_true, y_pred)))\n",
    "    cm = {c: {d: 0 for d in unique_classes} for c in unique_classes}\n",
    "    for actual, pred in zip(y_true, y_pred):\n",
    "        cm[actual][pred] += 1\n",
    "\n",
    "    print(\"Confusion Matrix:\")\n",
    "    print(\"\\t\" + \"\\t\".join(str(c) for c in unique_classes))\n",
    "    for actual in unique_classes:\n",
    "        row = [str(cm[actual][pred]) for pred in unique_classes]\n",
    "        print(f\"{actual}\\t\" + \"\\t\".join(row))\n",
    "\n",
    "    return accuracy"
   ],
   "id": "4a43a6eb7f23e4ad",
   "outputs": [],
   "execution_count": 30
  },
  {
   "metadata": {
    "ExecuteTime": {
     "end_time": "2025-06-06T14:27:32.110821Z",
     "start_time": "2025-06-06T14:27:32.105505Z"
    }
   },
   "cell_type": "code",
   "source": [
    "def plot_accuracies(accuracies, labels):\n",
    "    plt.figure(figsize=(10, 6))\n",
    "    plt.bar(labels, accuracies, color=['blue', 'green', 'orange', 'red'])\n",
    "    plt.title('Model Accuracy Comparison on Titanic Dataset')\n",
    "    plt.ylabel('Accuracy')\n",
    "    plt.ylim(0.7, 0.9)\n",
    "    plt.grid(axis='y', linestyle='--', alpha=0.7)\n",
    "    for i, v in enumerate(accuracies):\n",
    "        plt.text(i, v + 0.01, f\"{v:.2%}\", ha='center', fontsize=10)\n",
    "    plt.tight_layout()\n",
    "    plt.savefig('accuracy_comparison.png')\n",
    "    plt.show()"
   ],
   "id": "a2454ce5ab5154fe",
   "outputs": [],
   "execution_count": 31
  },
  {
   "metadata": {
    "ExecuteTime": {
     "end_time": "2025-06-06T14:27:36.768475Z",
     "start_time": "2025-06-06T14:27:32.122642Z"
    }
   },
   "cell_type": "code",
   "source": [
    "if __name__ == \"__main__\":\n",
    "    X_train, y_train, X_test, y_test = load_data()\n",
    "\n",
    "    nb_model = naive_bayes(X_train, y_train)\n",
    "    y_pred_nb = predict_naive_bayes(nb_model, X_test)\n",
    "    nb_acc = evaluate(y_test, y_pred_nb, \"Naive Bayes\")\n",
    "\n",
    "    k_values = [3, 5, 7]\n",
    "    knn_accuracies = []\n",
    "    for k in k_values:\n",
    "        y_pred_knn = knn(X_train, y_train, X_test, k=k)\n",
    "        acc = evaluate(y_test, y_pred_knn, f\"KNN (k={k})\")\n",
    "        knn_accuracies.append(acc)\n",
    "\n",
    "    plot_accuracies([nb_acc] + knn_accuracies, ['Naive Bayes'] + [f'KNN (k={k})' for k in k_values])\n"
   ],
   "id": "da0aac6f78daf478",
   "outputs": [
    {
     "name": "stdout",
     "output_type": "stream",
     "text": [
      "Naive Bayes Accuracy: 91.39%\n",
      "Confusion Matrix:\n",
      "\t0\t1\n",
      "0\t235\t31\n",
      "1\t5\t147\n",
      "KNN (k=3) Accuracy: 71.77%\n",
      "Confusion Matrix:\n",
      "\t0\t1\n",
      "0\t190\t76\n",
      "1\t42\t110\n",
      "KNN (k=5) Accuracy: 75.84%\n",
      "Confusion Matrix:\n",
      "\t0\t1\n",
      "0\t194\t72\n",
      "1\t29\t123\n",
      "KNN (k=7) Accuracy: 88.04%\n",
      "Confusion Matrix:\n",
      "\t0\t1\n",
      "0\t243\t23\n",
      "1\t27\t125\n"
     ]
    },
    {
     "data": {
      "text/plain": [
       "<Figure size 1000x600 with 1 Axes>"
      ],
      "image/png": "[encoded data removed]"
     },
     "metadata": {},
     "output_type": "display_data"
    }
   ],
   "execution_count": 32
  },
  {
   "metadata": {
    "ExecuteTime": {
     "end_time": "2025-06-06T14:27:36.797519Z",
     "start_time": "2025-06-06T14:27:36.792027Z"
    }
   },
   "cell_type": "code",
   "source": "",
   "id": "5bbd14fd40c3b529",
   "outputs": [],
   "execution_count": null
  }
 ],
 "metadata": {
  "kernelspec": {
   "display_name": "Python 3",
   "language": "python",
   "name": "python3"
  },
  "language_info": {
   "codemirror_mode": {
    "name": "ipython",
    "version": 2
   },
   "file_extension": ".py",
   "mimetype": "text/x-python",
   "name": "python",
   "nbconvert_exporter": "python",
   "pygments_lexer": "ipython2",
   "version": "2.7.6"
  }
 },
 "nbformat": 4,
 "nbformat_minor": 5
}
